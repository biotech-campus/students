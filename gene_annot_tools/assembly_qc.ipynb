{
 "cells": [
  {
   "cell_type": "markdown",
   "metadata": {},
   "source": [
    "# Assembly QC"
   ]
  },
  {
   "cell_type": "markdown",
   "metadata": {},
   "source": [
    "Скачаем последнюю опубликованную [сборку](https://www.ncbi.nlm.nih.gov/datasets/genome/GCF_017311325.1/) белого медведя ASM1731132v1."
   ]
  },
  {
   "cell_type": "code",
   "execution_count": null,
   "metadata": {},
   "outputs": [],
   "source": [
    "%%bash\n",
    "mkdir -p /mnt/data/gvykhodtsev/genomes/polar_bear_ASM1731132v1\n",
    "wget -O /mnt/data/gvykhodtsev/genomes/polar_bear_ASM1731132v1/ncbi_datasets.zip https://api.ncbi.nlm.nih.gov/datasets/v2alpha/genome/accession/GCF_017311325.1/download?include_annotation_type=GENOME_FASTA,GENOME_GFF,RNA_FASTA,CDS_FASTA,PROT_FASTA,SEQUENCE_REPORT"
   ]
  },
  {
   "cell_type": "code",
   "execution_count": 9,
   "metadata": {},
   "outputs": [
    {
     "name": "stdout",
     "output_type": "stream",
     "text": [
      "Archive:  ncbi_datasets.zip\n",
      "  inflating: README.md               \n",
      "  inflating: ncbi_dataset/data/assembly_data_report.jsonl  \n",
      "  inflating: ncbi_dataset/data/GCF_017311325.1/GCF_017311325.1_ASM1731132v1_genomic.fna  \n",
      "  inflating: ncbi_dataset/data/GCF_017311325.1/genomic.gff  \n",
      "  inflating: ncbi_dataset/data/GCF_017311325.1/rna.fna  \n",
      "  inflating: ncbi_dataset/data/GCF_017311325.1/cds_from_genomic.fna  \n",
      "  inflating: ncbi_dataset/data/GCF_017311325.1/protein.faa  \n",
      "  inflating: ncbi_dataset/data/GCF_017311325.1/sequence_report.jsonl  \n",
      "  inflating: ncbi_dataset/data/dataset_catalog.json  \n"
     ]
    }
   ],
   "source": [
    "%%bash\n",
    "cd /mnt/data/gvykhodtsev/genomes/polar_bear_ASM1731132v1\n",
    "unzip ncbi_datasets.zip"
   ]
  },
  {
   "cell_type": "markdown",
   "metadata": {},
   "source": [
    "## Tools installation"
   ]
  },
  {
   "cell_type": "markdown",
   "metadata": {},
   "source": [
    "## RepeatMasker\n",
    "Для лучшей работы тулов по предсказанию генов необходимо замаскировать ненужные повторы. [Туториал.](https://github.com/ISUgenomics/bioinformatics-workbook/blob/master/dataAnalysis/ComparativeGenomics/RepeatModeler_RepeatMasker.md)\n",
    "> Thus, I generally recommend to run a gene prediction program on unmasked DNA (as well) and compare the predicted genes and exons with the RepeatMasker output."
   ]
  },
  {
   "cell_type": "code",
   "execution_count": null,
   "metadata": {},
   "outputs": [],
   "source": [
    "!micromamba install bioconda::repeatmasker\n",
    "!micromamba install -c \"bioconda/label/main\" repeatmodeler=2\n",
    "!micromamba install bioconda::genometools"
   ]
  },
  {
   "cell_type": "code",
   "execution_count": null,
   "metadata": {},
   "outputs": [],
   "source": [
    "!cd /mnt/data/gvykhodtsev/genomes/polar_bear_ASM1731132v1/data/masked_assembly\n",
    "!RepeatMasker -pa 8 -t -xsmall -gff -nolow -species carnivores \\\n",
    "    -dir /mnt/data/gvykhodtsev/genomes/polar_bear_ASM1731132v1/data/masked_assembly \\\n",
    "    -trf_prgm /home/gvykhodtsev/micromamba/envs/gene_annot/bin/trf \\\n",
    "    /mnt/data/gvykhodtsev/genomes/polar_bear_ASM1731132v1/data/GCF_017311325.1/GCF_017311325.1_ASM1731132v1_genomic.fna"
   ]
  },
  {
   "cell_type": "markdown",
   "metadata": {},
   "source": [
    "## SRA parsing"
   ]
  },
  {
   "cell_type": "code",
   "execution_count": null,
   "metadata": {},
   "outputs": [],
   "source": []
  },
  {
   "cell_type": "markdown",
   "metadata": {},
   "source": [
    "## Trimming"
   ]
  },
  {
   "cell_type": "code",
   "execution_count": null,
   "metadata": {},
   "outputs": [],
   "source": [
    "!micromamba install bioconda::trimmomatic"
   ]
  },
  {
   "cell_type": "markdown",
   "metadata": {},
   "source": [
    "## STAR"
   ]
  },
  {
   "cell_type": "code",
   "execution_count": null,
   "metadata": {},
   "outputs": [],
   "source": [
    "!micromamba install bioconda::star"
   ]
  },
  {
   "cell_type": "markdown",
   "metadata": {},
   "source": [
    "### BRAKER"
   ]
  },
  {
   "cell_type": "markdown",
   "metadata": {},
   "source": []
  },
  {
   "cell_type": "markdown",
   "metadata": {},
   "source": []
  },
  {
   "cell_type": "code",
   "execution_count": null,
   "metadata": {},
   "outputs": [],
   "source": [
    "# !bash projects/arctic_genomes/braker_install_depend.sh"
   ]
  },
  {
   "cell_type": "code",
   "execution_count": null,
   "metadata": {},
   "outputs": [],
   "source": []
  },
  {
   "cell_type": "code",
   "execution_count": null,
   "metadata": {},
   "outputs": [],
   "source": []
  }
 ],
 "metadata": {
  "kernelspec": {
   "display_name": "Python (gene_annot)",
   "language": "python",
   "name": "gene_annot"
  },
  "language_info": {
   "codemirror_mode": {
    "name": "ipython",
    "version": 3
   },
   "file_extension": ".py",
   "mimetype": "text/x-python",
   "name": "python",
   "nbconvert_exporter": "python",
   "pygments_lexer": "ipython3",
   "version": "3.11.7"
  }
 },
 "nbformat": 4,
 "nbformat_minor": 2
}
